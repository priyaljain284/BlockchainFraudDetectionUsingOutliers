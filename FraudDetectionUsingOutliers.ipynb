{
 "cells": [
  {
   "cell_type": "code",
   "execution_count": 1,
   "metadata": {},
   "outputs": [],
   "source": [
    "import pandas as pd\n",
    "import matplotlib.pyplot as plt\n",
    "import seaborn as sns\n",
    "\n"
   ]
  },
  {
   "cell_type": "code",
   "execution_count": 2,
   "metadata": {},
   "outputs": [],
   "source": [
    "df=pd.read_csv('query1.csv')"
   ]
  },
  {
   "cell_type": "code",
   "execution_count": 3,
   "metadata": {},
   "outputs": [],
   "source": [
    "df1=pd.read_csv('query2.csv')"
   ]
  },
  {
   "cell_type": "code",
   "execution_count": 4,
   "metadata": {},
   "outputs": [
    {
     "data": {
      "text/html": [
       "<div>\n",
       "<style scoped>\n",
       "    .dataframe tbody tr th:only-of-type {\n",
       "        vertical-align: middle;\n",
       "    }\n",
       "\n",
       "    .dataframe tbody tr th {\n",
       "        vertical-align: top;\n",
       "    }\n",
       "\n",
       "    .dataframe thead th {\n",
       "        text-align: right;\n",
       "    }\n",
       "</style>\n",
       "<table border=\"1\" class=\"dataframe\">\n",
       "  <thead>\n",
       "    <tr style=\"text-align: right;\">\n",
       "      <th></th>\n",
       "      <th>Date</th>\n",
       "      <th>Transactions</th>\n",
       "      <th>Blocks</th>\n",
       "      <th>Output_Satoshis</th>\n",
       "    </tr>\n",
       "  </thead>\n",
       "  <tbody>\n",
       "    <tr>\n",
       "      <th>0</th>\n",
       "      <td>2016-08-12</td>\n",
       "      <td>149</td>\n",
       "      <td>571788</td>\n",
       "      <td>192449213278677</td>\n",
       "    </tr>\n",
       "    <tr>\n",
       "      <th>1</th>\n",
       "      <td>2016-08-13</td>\n",
       "      <td>163</td>\n",
       "      <td>537632</td>\n",
       "      <td>204909291864336</td>\n",
       "    </tr>\n",
       "    <tr>\n",
       "      <th>2</th>\n",
       "      <td>2016-08-14</td>\n",
       "      <td>163</td>\n",
       "      <td>533825</td>\n",
       "      <td>171656943644686</td>\n",
       "    </tr>\n",
       "    <tr>\n",
       "      <th>3</th>\n",
       "      <td>2016-08-15</td>\n",
       "      <td>146</td>\n",
       "      <td>502906</td>\n",
       "      <td>207713022974418</td>\n",
       "    </tr>\n",
       "    <tr>\n",
       "      <th>4</th>\n",
       "      <td>2016-08-16</td>\n",
       "      <td>135</td>\n",
       "      <td>610164</td>\n",
       "      <td>273195830621631</td>\n",
       "    </tr>\n",
       "  </tbody>\n",
       "</table>\n",
       "</div>"
      ],
      "text/plain": [
       "         Date  Transactions  Blocks  Output_Satoshis\n",
       "0  2016-08-12           149  571788  192449213278677\n",
       "1  2016-08-13           163  537632  204909291864336\n",
       "2  2016-08-14           163  533825  171656943644686\n",
       "3  2016-08-15           146  502906  207713022974418\n",
       "4  2016-08-16           135  610164  273195830621631"
      ]
     },
     "execution_count": 4,
     "metadata": {},
     "output_type": "execute_result"
    }
   ],
   "source": [
    "result = pd.merge(df,df1[['Date', 'Blocks', 'Output_Satoshis']],on='Date')\n",
    "result.head()"
   ]
  },
  {
   "cell_type": "code",
   "execution_count": 5,
   "metadata": {},
   "outputs": [
    {
     "data": {
      "text/html": [
       "<div>\n",
       "<style scoped>\n",
       "    .dataframe tbody tr th:only-of-type {\n",
       "        vertical-align: middle;\n",
       "    }\n",
       "\n",
       "    .dataframe tbody tr th {\n",
       "        vertical-align: top;\n",
       "    }\n",
       "\n",
       "    .dataframe thead th {\n",
       "        text-align: right;\n",
       "    }\n",
       "</style>\n",
       "<table border=\"1\" class=\"dataframe\">\n",
       "  <thead>\n",
       "    <tr style=\"text-align: right;\">\n",
       "      <th></th>\n",
       "      <th>Transactions</th>\n",
       "      <th>Blocks</th>\n",
       "      <th>Output_Satoshis</th>\n",
       "    </tr>\n",
       "  </thead>\n",
       "  <tbody>\n",
       "    <tr>\n",
       "      <th>count</th>\n",
       "      <td>760.000000</td>\n",
       "      <td>7.600000e+02</td>\n",
       "      <td>7.600000e+02</td>\n",
       "    </tr>\n",
       "    <tr>\n",
       "      <th>mean</th>\n",
       "      <td>152.388158</td>\n",
       "      <td>6.563773e+05</td>\n",
       "      <td>2.014011e+14</td>\n",
       "    </tr>\n",
       "    <tr>\n",
       "      <th>std</th>\n",
       "      <td>17.481648</td>\n",
       "      <td>1.457100e+05</td>\n",
       "      <td>1.057827e+14</td>\n",
       "    </tr>\n",
       "    <tr>\n",
       "      <th>min</th>\n",
       "      <td>2.000000</td>\n",
       "      <td>1.548900e+04</td>\n",
       "      <td>1.922581e+12</td>\n",
       "    </tr>\n",
       "    <tr>\n",
       "      <th>25%</th>\n",
       "      <td>142.000000</td>\n",
       "      <td>5.596760e+05</td>\n",
       "      <td>1.278973e+14</td>\n",
       "    </tr>\n",
       "    <tr>\n",
       "      <th>50%</th>\n",
       "      <td>153.000000</td>\n",
       "      <td>6.378340e+05</td>\n",
       "      <td>1.853705e+14</td>\n",
       "    </tr>\n",
       "    <tr>\n",
       "      <th>75%</th>\n",
       "      <td>164.000000</td>\n",
       "      <td>7.279940e+05</td>\n",
       "      <td>2.484635e+14</td>\n",
       "    </tr>\n",
       "    <tr>\n",
       "      <th>max</th>\n",
       "      <td>197.000000</td>\n",
       "      <td>1.264802e+06</td>\n",
       "      <td>9.838137e+14</td>\n",
       "    </tr>\n",
       "  </tbody>\n",
       "</table>\n",
       "</div>"
      ],
      "text/plain": [
       "       Transactions        Blocks  Output_Satoshis\n",
       "count    760.000000  7.600000e+02     7.600000e+02\n",
       "mean     152.388158  6.563773e+05     2.014011e+14\n",
       "std       17.481648  1.457100e+05     1.057827e+14\n",
       "min        2.000000  1.548900e+04     1.922581e+12\n",
       "25%      142.000000  5.596760e+05     1.278973e+14\n",
       "50%      153.000000  6.378340e+05     1.853705e+14\n",
       "75%      164.000000  7.279940e+05     2.484635e+14\n",
       "max      197.000000  1.264802e+06     9.838137e+14"
      ]
     },
     "execution_count": 5,
     "metadata": {},
     "output_type": "execute_result"
    }
   ],
   "source": [
    "result.describe()"
   ]
  },
  {
   "cell_type": "code",
   "execution_count": 6,
   "metadata": {},
   "outputs": [
    {
     "ename": "ModuleNotFoundError",
     "evalue": "No module named 'plotly'",
     "output_type": "error",
     "traceback": [
      "\u001b[1;31m---------------------------------------------------------------------------\u001b[0m",
      "\u001b[1;31mModuleNotFoundError\u001b[0m                       Traceback (most recent call last)",
      "\u001b[1;32m<ipython-input-6-fae53322cb19>\u001b[0m in \u001b[0;36m<module>\u001b[1;34m\u001b[0m\n\u001b[1;32m----> 1\u001b[1;33m \u001b[1;32mimport\u001b[0m \u001b[0mplotly\u001b[0m\u001b[1;33m.\u001b[0m\u001b[0mexpress\u001b[0m \u001b[1;32mas\u001b[0m \u001b[0mpx\u001b[0m\u001b[1;33m\u001b[0m\u001b[1;33m\u001b[0m\u001b[0m\n\u001b[0m\u001b[0;32m      2\u001b[0m \u001b[1;32mimport\u001b[0m \u001b[0mplotly\u001b[0m\u001b[1;33m.\u001b[0m\u001b[0moffline\u001b[0m \u001b[1;32mas\u001b[0m \u001b[0mpyo\u001b[0m\u001b[1;33m\u001b[0m\u001b[1;33m\u001b[0m\u001b[0m\n\u001b[0;32m      3\u001b[0m \u001b[0mfig\u001b[0m \u001b[1;33m=\u001b[0m \u001b[0mpx\u001b[0m\u001b[1;33m.\u001b[0m\u001b[0mline\u001b[0m\u001b[1;33m(\u001b[0m\u001b[0mresult\u001b[0m\u001b[1;33m,\u001b[0m \u001b[0mx\u001b[0m\u001b[1;33m=\u001b[0m\u001b[1;34m'Date'\u001b[0m\u001b[1;33m,\u001b[0m \u001b[0my\u001b[0m\u001b[1;33m=\u001b[0m\u001b[1;34m'Transactions'\u001b[0m\u001b[1;33m)\u001b[0m\u001b[1;33m\u001b[0m\u001b[1;33m\u001b[0m\u001b[0m\n\u001b[0;32m      4\u001b[0m \u001b[0mfig\u001b[0m\u001b[1;33m.\u001b[0m\u001b[0mshow\u001b[0m\u001b[1;33m(\u001b[0m\u001b[1;33m)\u001b[0m\u001b[1;33m\u001b[0m\u001b[1;33m\u001b[0m\u001b[0m\n",
      "\u001b[1;31mModuleNotFoundError\u001b[0m: No module named 'plotly'"
     ]
    }
   ],
   "source": [
    "import plotly.express as px\n",
    "import plotly.offline as pyo\n",
    "fig = px.line(result, x='Date', y='Transactions')\n",
    "fig.show()"
   ]
  },
  {
   "cell_type": "code",
   "execution_count": null,
   "metadata": {},
   "outputs": [],
   "source": [
    "import plotly.express as px\n",
    "fig = px.line(result, x='Date', y='Blocks')\n",
    "fig.show()"
   ]
  },
  {
   "cell_type": "code",
   "execution_count": null,
   "metadata": {},
   "outputs": [],
   "source": [
    "px.scatter_3d(result, x='Date', y='Transactions',z='Blocks')"
   ]
  },
  {
   "cell_type": "code",
   "execution_count": null,
   "metadata": {
    "scrolled": true
   },
   "outputs": [],
   "source": [
    "from sklearn.preprocessing import StandardScaler\n",
    "import numpy as np\n",
    "from sklearn.ensemble import IsolationForest \n",
    "\n",
    "data = result[['Output_Satoshis','Blocks','Transactions']]\n",
    "outliers_fraction=0.05\n",
    "scaler = StandardScaler()\n",
    "np_scaled = scaler.fit_transform(data)\n",
    "data = pd.DataFrame(np_scaled)\n",
    "\n",
    "# train isolation forest\n",
    "model =  IsolationForest(contamination=outliers_fraction)\n",
    "model.fit(data)"
   ]
  },
  {
   "cell_type": "code",
   "execution_count": null,
   "metadata": {},
   "outputs": [],
   "source": [
    "y_pred = model.fit_predict(data)"
   ]
  },
  {
   "cell_type": "code",
   "execution_count": null,
   "metadata": {},
   "outputs": [],
   "source": [
    "y_pred"
   ]
  },
  {
   "cell_type": "code",
   "execution_count": null,
   "metadata": {},
   "outputs": [],
   "source": [
    "result['anomaly_IsolationForest'] = pd.Series(model.predict(data))\n"
   ]
  },
  {
   "cell_type": "code",
   "execution_count": null,
   "metadata": {},
   "outputs": [],
   "source": [
    "result"
   ]
  },
  {
   "cell_type": "code",
   "execution_count": null,
   "metadata": {},
   "outputs": [],
   "source": [
    "result['anomaly_IsolationForest'] = pd.Series(model.predict(data))\n",
    "result['anomaly_IsolationForest'] = result['anomaly_IsolationForest'].apply(lambda x: x == -1)\n",
    "result['anomaly_IsolationForest'] = result['anomaly_IsolationForest'].astype(int)\n"
   ]
  },
  {
   "cell_type": "code",
   "execution_count": 7,
   "metadata": {},
   "outputs": [
    {
     "data": {
      "text/html": [
       "<div>\n",
       "<style scoped>\n",
       "    .dataframe tbody tr th:only-of-type {\n",
       "        vertical-align: middle;\n",
       "    }\n",
       "\n",
       "    .dataframe tbody tr th {\n",
       "        vertical-align: top;\n",
       "    }\n",
       "\n",
       "    .dataframe thead th {\n",
       "        text-align: right;\n",
       "    }\n",
       "</style>\n",
       "<table border=\"1\" class=\"dataframe\">\n",
       "  <thead>\n",
       "    <tr style=\"text-align: right;\">\n",
       "      <th></th>\n",
       "      <th>Date</th>\n",
       "      <th>Transactions</th>\n",
       "      <th>Blocks</th>\n",
       "      <th>Output_Satoshis</th>\n",
       "    </tr>\n",
       "  </thead>\n",
       "  <tbody>\n",
       "    <tr>\n",
       "      <th>0</th>\n",
       "      <td>2016-08-12</td>\n",
       "      <td>149</td>\n",
       "      <td>571788</td>\n",
       "      <td>192449213278677</td>\n",
       "    </tr>\n",
       "    <tr>\n",
       "      <th>1</th>\n",
       "      <td>2016-08-13</td>\n",
       "      <td>163</td>\n",
       "      <td>537632</td>\n",
       "      <td>204909291864336</td>\n",
       "    </tr>\n",
       "    <tr>\n",
       "      <th>2</th>\n",
       "      <td>2016-08-14</td>\n",
       "      <td>163</td>\n",
       "      <td>533825</td>\n",
       "      <td>171656943644686</td>\n",
       "    </tr>\n",
       "    <tr>\n",
       "      <th>3</th>\n",
       "      <td>2016-08-15</td>\n",
       "      <td>146</td>\n",
       "      <td>502906</td>\n",
       "      <td>207713022974418</td>\n",
       "    </tr>\n",
       "    <tr>\n",
       "      <th>4</th>\n",
       "      <td>2016-08-16</td>\n",
       "      <td>135</td>\n",
       "      <td>610164</td>\n",
       "      <td>273195830621631</td>\n",
       "    </tr>\n",
       "    <tr>\n",
       "      <th>...</th>\n",
       "      <td>...</td>\n",
       "      <td>...</td>\n",
       "      <td>...</td>\n",
       "      <td>...</td>\n",
       "    </tr>\n",
       "    <tr>\n",
       "      <th>755</th>\n",
       "      <td>2018-09-06</td>\n",
       "      <td>150</td>\n",
       "      <td>645864</td>\n",
       "      <td>127295710140994</td>\n",
       "    </tr>\n",
       "    <tr>\n",
       "      <th>756</th>\n",
       "      <td>2018-09-07</td>\n",
       "      <td>152</td>\n",
       "      <td>670653</td>\n",
       "      <td>108604821016277</td>\n",
       "    </tr>\n",
       "    <tr>\n",
       "      <th>757</th>\n",
       "      <td>2018-09-08</td>\n",
       "      <td>150</td>\n",
       "      <td>531346</td>\n",
       "      <td>71886241720552</td>\n",
       "    </tr>\n",
       "    <tr>\n",
       "      <th>758</th>\n",
       "      <td>2018-09-09</td>\n",
       "      <td>163</td>\n",
       "      <td>495661</td>\n",
       "      <td>72006661552204</td>\n",
       "    </tr>\n",
       "    <tr>\n",
       "      <th>759</th>\n",
       "      <td>2018-09-10</td>\n",
       "      <td>74</td>\n",
       "      <td>297030</td>\n",
       "      <td>52652140145801</td>\n",
       "    </tr>\n",
       "  </tbody>\n",
       "</table>\n",
       "<p>760 rows × 4 columns</p>\n",
       "</div>"
      ],
      "text/plain": [
       "           Date  Transactions  Blocks  Output_Satoshis\n",
       "0    2016-08-12           149  571788  192449213278677\n",
       "1    2016-08-13           163  537632  204909291864336\n",
       "2    2016-08-14           163  533825  171656943644686\n",
       "3    2016-08-15           146  502906  207713022974418\n",
       "4    2016-08-16           135  610164  273195830621631\n",
       "..          ...           ...     ...              ...\n",
       "755  2018-09-06           150  645864  127295710140994\n",
       "756  2018-09-07           152  670653  108604821016277\n",
       "757  2018-09-08           150  531346   71886241720552\n",
       "758  2018-09-09           163  495661   72006661552204\n",
       "759  2018-09-10            74  297030   52652140145801\n",
       "\n",
       "[760 rows x 4 columns]"
      ]
     },
     "execution_count": 7,
     "metadata": {},
     "output_type": "execute_result"
    }
   ],
   "source": [
    "result"
   ]
  },
  {
   "cell_type": "code",
   "execution_count": 12,
   "metadata": {},
   "outputs": [
    {
     "ename": "KeyError",
     "evalue": "'anomaly_IsolationForest'",
     "output_type": "error",
     "traceback": [
      "\u001b[1;31m---------------------------------------------------------------------------\u001b[0m",
      "\u001b[1;31mKeyError\u001b[0m                                  Traceback (most recent call last)",
      "\u001b[1;32m~\\anaconda3\\lib\\site-packages\\pandas\\core\\indexes\\base.py\u001b[0m in \u001b[0;36mget_loc\u001b[1;34m(self, key, method, tolerance)\u001b[0m\n\u001b[0;32m   2645\u001b[0m             \u001b[1;32mtry\u001b[0m\u001b[1;33m:\u001b[0m\u001b[1;33m\u001b[0m\u001b[1;33m\u001b[0m\u001b[0m\n\u001b[1;32m-> 2646\u001b[1;33m                 \u001b[1;32mreturn\u001b[0m \u001b[0mself\u001b[0m\u001b[1;33m.\u001b[0m\u001b[0m_engine\u001b[0m\u001b[1;33m.\u001b[0m\u001b[0mget_loc\u001b[0m\u001b[1;33m(\u001b[0m\u001b[0mkey\u001b[0m\u001b[1;33m)\u001b[0m\u001b[1;33m\u001b[0m\u001b[1;33m\u001b[0m\u001b[0m\n\u001b[0m\u001b[0;32m   2647\u001b[0m             \u001b[1;32mexcept\u001b[0m \u001b[0mKeyError\u001b[0m\u001b[1;33m:\u001b[0m\u001b[1;33m\u001b[0m\u001b[1;33m\u001b[0m\u001b[0m\n",
      "\u001b[1;32mpandas\\_libs\\index.pyx\u001b[0m in \u001b[0;36mpandas._libs.index.IndexEngine.get_loc\u001b[1;34m()\u001b[0m\n",
      "\u001b[1;32mpandas\\_libs\\index.pyx\u001b[0m in \u001b[0;36mpandas._libs.index.IndexEngine.get_loc\u001b[1;34m()\u001b[0m\n",
      "\u001b[1;32mpandas\\_libs\\hashtable_class_helper.pxi\u001b[0m in \u001b[0;36mpandas._libs.hashtable.PyObjectHashTable.get_item\u001b[1;34m()\u001b[0m\n",
      "\u001b[1;32mpandas\\_libs\\hashtable_class_helper.pxi\u001b[0m in \u001b[0;36mpandas._libs.hashtable.PyObjectHashTable.get_item\u001b[1;34m()\u001b[0m\n",
      "\u001b[1;31mKeyError\u001b[0m: 'anomaly_IsolationForest'",
      "\nDuring handling of the above exception, another exception occurred:\n",
      "\u001b[1;31mKeyError\u001b[0m                                  Traceback (most recent call last)",
      "\u001b[1;32m<ipython-input-12-2ee31deb7fd9>\u001b[0m in \u001b[0;36m<module>\u001b[1;34m\u001b[0m\n\u001b[1;32m----> 1\u001b[1;33m \u001b[0ma\u001b[0m \u001b[1;33m=\u001b[0m \u001b[0mresult\u001b[0m\u001b[1;33m.\u001b[0m\u001b[0mloc\u001b[0m\u001b[1;33m[\u001b[0m\u001b[0mresult\u001b[0m\u001b[1;33m[\u001b[0m\u001b[1;34m'anomaly_IsolationForest'\u001b[0m\u001b[1;33m]\u001b[0m \u001b[1;33m==\u001b[0m \u001b[1;36m1\u001b[0m\u001b[1;33m]\u001b[0m\u001b[1;33m\u001b[0m\u001b[1;33m\u001b[0m\u001b[0m\n\u001b[0m",
      "\u001b[1;32m~\\anaconda3\\lib\\site-packages\\pandas\\core\\frame.py\u001b[0m in \u001b[0;36m__getitem__\u001b[1;34m(self, key)\u001b[0m\n\u001b[0;32m   2798\u001b[0m             \u001b[1;32mif\u001b[0m \u001b[0mself\u001b[0m\u001b[1;33m.\u001b[0m\u001b[0mcolumns\u001b[0m\u001b[1;33m.\u001b[0m\u001b[0mnlevels\u001b[0m \u001b[1;33m>\u001b[0m \u001b[1;36m1\u001b[0m\u001b[1;33m:\u001b[0m\u001b[1;33m\u001b[0m\u001b[1;33m\u001b[0m\u001b[0m\n\u001b[0;32m   2799\u001b[0m                 \u001b[1;32mreturn\u001b[0m \u001b[0mself\u001b[0m\u001b[1;33m.\u001b[0m\u001b[0m_getitem_multilevel\u001b[0m\u001b[1;33m(\u001b[0m\u001b[0mkey\u001b[0m\u001b[1;33m)\u001b[0m\u001b[1;33m\u001b[0m\u001b[1;33m\u001b[0m\u001b[0m\n\u001b[1;32m-> 2800\u001b[1;33m             \u001b[0mindexer\u001b[0m \u001b[1;33m=\u001b[0m \u001b[0mself\u001b[0m\u001b[1;33m.\u001b[0m\u001b[0mcolumns\u001b[0m\u001b[1;33m.\u001b[0m\u001b[0mget_loc\u001b[0m\u001b[1;33m(\u001b[0m\u001b[0mkey\u001b[0m\u001b[1;33m)\u001b[0m\u001b[1;33m\u001b[0m\u001b[1;33m\u001b[0m\u001b[0m\n\u001b[0m\u001b[0;32m   2801\u001b[0m             \u001b[1;32mif\u001b[0m \u001b[0mis_integer\u001b[0m\u001b[1;33m(\u001b[0m\u001b[0mindexer\u001b[0m\u001b[1;33m)\u001b[0m\u001b[1;33m:\u001b[0m\u001b[1;33m\u001b[0m\u001b[1;33m\u001b[0m\u001b[0m\n\u001b[0;32m   2802\u001b[0m                 \u001b[0mindexer\u001b[0m \u001b[1;33m=\u001b[0m \u001b[1;33m[\u001b[0m\u001b[0mindexer\u001b[0m\u001b[1;33m]\u001b[0m\u001b[1;33m\u001b[0m\u001b[1;33m\u001b[0m\u001b[0m\n",
      "\u001b[1;32m~\\anaconda3\\lib\\site-packages\\pandas\\core\\indexes\\base.py\u001b[0m in \u001b[0;36mget_loc\u001b[1;34m(self, key, method, tolerance)\u001b[0m\n\u001b[0;32m   2646\u001b[0m                 \u001b[1;32mreturn\u001b[0m \u001b[0mself\u001b[0m\u001b[1;33m.\u001b[0m\u001b[0m_engine\u001b[0m\u001b[1;33m.\u001b[0m\u001b[0mget_loc\u001b[0m\u001b[1;33m(\u001b[0m\u001b[0mkey\u001b[0m\u001b[1;33m)\u001b[0m\u001b[1;33m\u001b[0m\u001b[1;33m\u001b[0m\u001b[0m\n\u001b[0;32m   2647\u001b[0m             \u001b[1;32mexcept\u001b[0m \u001b[0mKeyError\u001b[0m\u001b[1;33m:\u001b[0m\u001b[1;33m\u001b[0m\u001b[1;33m\u001b[0m\u001b[0m\n\u001b[1;32m-> 2648\u001b[1;33m                 \u001b[1;32mreturn\u001b[0m \u001b[0mself\u001b[0m\u001b[1;33m.\u001b[0m\u001b[0m_engine\u001b[0m\u001b[1;33m.\u001b[0m\u001b[0mget_loc\u001b[0m\u001b[1;33m(\u001b[0m\u001b[0mself\u001b[0m\u001b[1;33m.\u001b[0m\u001b[0m_maybe_cast_indexer\u001b[0m\u001b[1;33m(\u001b[0m\u001b[0mkey\u001b[0m\u001b[1;33m)\u001b[0m\u001b[1;33m)\u001b[0m\u001b[1;33m\u001b[0m\u001b[1;33m\u001b[0m\u001b[0m\n\u001b[0m\u001b[0;32m   2649\u001b[0m         \u001b[0mindexer\u001b[0m \u001b[1;33m=\u001b[0m \u001b[0mself\u001b[0m\u001b[1;33m.\u001b[0m\u001b[0mget_indexer\u001b[0m\u001b[1;33m(\u001b[0m\u001b[1;33m[\u001b[0m\u001b[0mkey\u001b[0m\u001b[1;33m]\u001b[0m\u001b[1;33m,\u001b[0m \u001b[0mmethod\u001b[0m\u001b[1;33m=\u001b[0m\u001b[0mmethod\u001b[0m\u001b[1;33m,\u001b[0m \u001b[0mtolerance\u001b[0m\u001b[1;33m=\u001b[0m\u001b[0mtolerance\u001b[0m\u001b[1;33m)\u001b[0m\u001b[1;33m\u001b[0m\u001b[1;33m\u001b[0m\u001b[0m\n\u001b[0;32m   2650\u001b[0m         \u001b[1;32mif\u001b[0m \u001b[0mindexer\u001b[0m\u001b[1;33m.\u001b[0m\u001b[0mndim\u001b[0m \u001b[1;33m>\u001b[0m \u001b[1;36m1\u001b[0m \u001b[1;32mor\u001b[0m \u001b[0mindexer\u001b[0m\u001b[1;33m.\u001b[0m\u001b[0msize\u001b[0m \u001b[1;33m>\u001b[0m \u001b[1;36m1\u001b[0m\u001b[1;33m:\u001b[0m\u001b[1;33m\u001b[0m\u001b[1;33m\u001b[0m\u001b[0m\n",
      "\u001b[1;32mpandas\\_libs\\index.pyx\u001b[0m in \u001b[0;36mpandas._libs.index.IndexEngine.get_loc\u001b[1;34m()\u001b[0m\n",
      "\u001b[1;32mpandas\\_libs\\index.pyx\u001b[0m in \u001b[0;36mpandas._libs.index.IndexEngine.get_loc\u001b[1;34m()\u001b[0m\n",
      "\u001b[1;32mpandas\\_libs\\hashtable_class_helper.pxi\u001b[0m in \u001b[0;36mpandas._libs.hashtable.PyObjectHashTable.get_item\u001b[1;34m()\u001b[0m\n",
      "\u001b[1;32mpandas\\_libs\\hashtable_class_helper.pxi\u001b[0m in \u001b[0;36mpandas._libs.hashtable.PyObjectHashTable.get_item\u001b[1;34m()\u001b[0m\n",
      "\u001b[1;31mKeyError\u001b[0m: 'anomaly_IsolationForest'"
     ]
    }
   ],
   "source": [
    "a = result.loc[result['anomaly_IsolationForest'] == 1]"
   ]
  },
  {
   "cell_type": "code",
   "execution_count": null,
   "metadata": {},
   "outputs": [],
   "source": []
  },
  {
   "cell_type": "code",
   "execution_count": 9,
   "metadata": {},
   "outputs": [
    {
     "ename": "NameError",
     "evalue": "name 'a' is not defined",
     "output_type": "error",
     "traceback": [
      "\u001b[1;31m---------------------------------------------------------------------------\u001b[0m",
      "\u001b[1;31mNameError\u001b[0m                                 Traceback (most recent call last)",
      "\u001b[1;32m<ipython-input-9-63abcfba7a65>\u001b[0m in \u001b[0;36m<module>\u001b[1;34m\u001b[0m\n\u001b[1;32m----> 1\u001b[1;33m \u001b[0ma\u001b[0m\u001b[1;33m.\u001b[0m\u001b[0mindex\u001b[0m\u001b[1;33m\u001b[0m\u001b[1;33m\u001b[0m\u001b[0m\n\u001b[0m",
      "\u001b[1;31mNameError\u001b[0m: name 'a' is not defined"
     ]
    }
   ],
   "source": [
    "a.index"
   ]
  },
  {
   "cell_type": "code",
   "execution_count": 10,
   "metadata": {},
   "outputs": [
    {
     "ename": "NameError",
     "evalue": "name 'px' is not defined",
     "output_type": "error",
     "traceback": [
      "\u001b[1;31m---------------------------------------------------------------------------\u001b[0m",
      "\u001b[1;31mNameError\u001b[0m                                 Traceback (most recent call last)",
      "\u001b[1;32m<ipython-input-10-384565c0e456>\u001b[0m in \u001b[0;36m<module>\u001b[1;34m\u001b[0m\n\u001b[1;32m----> 1\u001b[1;33m \u001b[0mpx\u001b[0m\u001b[1;33m.\u001b[0m\u001b[0mscatter_3d\u001b[0m\u001b[1;33m(\u001b[0m\u001b[0mresult\u001b[0m\u001b[1;33m,\u001b[0m \u001b[0mx\u001b[0m\u001b[1;33m=\u001b[0m\u001b[1;34m'Output_Satoshis'\u001b[0m\u001b[1;33m,\u001b[0m \u001b[0my\u001b[0m\u001b[1;33m=\u001b[0m\u001b[1;34m'Transactions'\u001b[0m\u001b[1;33m,\u001b[0m\u001b[0mz\u001b[0m\u001b[1;33m=\u001b[0m\u001b[1;34m'Blocks'\u001b[0m\u001b[1;33m)\u001b[0m\u001b[1;33m\u001b[0m\u001b[1;33m\u001b[0m\u001b[0m\n\u001b[0m",
      "\u001b[1;31mNameError\u001b[0m: name 'px' is not defined"
     ]
    }
   ],
   "source": [
    "px.scatter_3d(result, x='Output_Satoshis', y='Transactions',z='Blocks')"
   ]
  },
  {
   "cell_type": "code",
   "execution_count": 11,
   "metadata": {},
   "outputs": [
    {
     "ename": "NameError",
     "evalue": "name 'px' is not defined",
     "output_type": "error",
     "traceback": [
      "\u001b[1;31m---------------------------------------------------------------------------\u001b[0m",
      "\u001b[1;31mNameError\u001b[0m                                 Traceback (most recent call last)",
      "\u001b[1;32m<ipython-input-11-f84ff999bdca>\u001b[0m in \u001b[0;36m<module>\u001b[1;34m\u001b[0m\n\u001b[1;32m----> 1\u001b[1;33m \u001b[0mpx\u001b[0m\u001b[1;33m.\u001b[0m\u001b[0mscatter_3d\u001b[0m\u001b[1;33m(\u001b[0m\u001b[0mresult\u001b[0m\u001b[1;33m,\u001b[0m\u001b[0mx\u001b[0m\u001b[1;33m=\u001b[0m\u001b[1;34m'Output_Satoshis'\u001b[0m\u001b[1;33m,\u001b[0m\u001b[0my\u001b[0m\u001b[1;33m=\u001b[0m\u001b[1;34m'Transactions'\u001b[0m\u001b[1;33m,\u001b[0m\u001b[0mz\u001b[0m\u001b[1;33m=\u001b[0m\u001b[1;34m'anomaly_IsolationForest'\u001b[0m\u001b[1;33m)\u001b[0m\u001b[1;33m\u001b[0m\u001b[1;33m\u001b[0m\u001b[0m\n\u001b[0m",
      "\u001b[1;31mNameError\u001b[0m: name 'px' is not defined"
     ]
    }
   ],
   "source": [
    "px.scatter_3d(result,x='Output_Satoshis',y='Transactions',z='anomaly_IsolationForest')"
   ]
  },
  {
   "cell_type": "code",
   "execution_count": 25,
   "metadata": {},
   "outputs": [],
   "source": [
    "X = result.iloc[:, 1:4].values\n",
    "y = result.iloc[:, 4].values"
   ]
  },
  {
   "cell_type": "code",
   "execution_count": 35,
   "metadata": {},
   "outputs": [
    {
     "data": {
      "text/plain": [
       "(760, 3)"
      ]
     },
     "execution_count": 35,
     "metadata": {},
     "output_type": "execute_result"
    }
   ],
   "source": [
    "X.sha"
   ]
  },
  {
   "cell_type": "code",
   "execution_count": 34,
   "metadata": {},
   "outputs": [
    {
     "data": {
      "text/plain": [
       "(760,)"
      ]
     },
     "execution_count": 34,
     "metadata": {},
     "output_type": "execute_result"
    }
   ],
   "source": [
    "y.shape"
   ]
  },
  {
   "cell_type": "code",
   "execution_count": 27,
   "metadata": {},
   "outputs": [],
   "source": [
    "from sklearn.model_selection import train_test_split\n",
    "X_train, X_test, y_train, y_test = train_test_split(X, y, test_size = 0.2, random_state = 0)\n"
   ]
  },
  {
   "cell_type": "code",
   "execution_count": 28,
   "metadata": {},
   "outputs": [],
   "source": [
    "from sklearn.preprocessing import StandardScaler\n",
    "sc = StandardScaler()\n",
    "X_train = sc.fit_transform(X_train)\n",
    "X_test = sc.transform(X_test)"
   ]
  },
  {
   "cell_type": "code",
   "execution_count": 29,
   "metadata": {},
   "outputs": [
    {
     "name": "stderr",
     "output_type": "stream",
     "text": [
      "Using TensorFlow backend.\n"
     ]
    }
   ],
   "source": [
    "import keras\n",
    "from keras.models import Sequential\n",
    "from keras.layers import Dense"
   ]
  },
  {
   "cell_type": "code",
   "execution_count": 36,
   "metadata": {},
   "outputs": [
    {
     "name": "stderr",
     "output_type": "stream",
     "text": [
      "W1119 22:48:58.515160 140058581796672 deprecation_wrapper.py:119] From /usr/local/lib/python3.7/dist-packages/keras/backend/tensorflow_backend.py:986: The name tf.assign_add is deprecated. Please use tf.compat.v1.assign_add instead.\n",
      "\n"
     ]
    },
    {
     "name": "stdout",
     "output_type": "stream",
     "text": [
      "Epoch 1/100\n",
      "608/608 [==============================] - 2s 3ms/step - loss: 0.6765 - acc: 0.9523\n",
      "Epoch 2/100\n",
      "608/608 [==============================] - 0s 147us/step - loss: 0.6237 - acc: 0.9523\n",
      "Epoch 3/100\n",
      "608/608 [==============================] - 0s 137us/step - loss: 0.5322 - acc: 0.9523\n",
      "Epoch 4/100\n",
      "608/608 [==============================] - 0s 131us/step - loss: 0.4121 - acc: 0.9523\n",
      "Epoch 5/100\n",
      "608/608 [==============================] - 0s 176us/step - loss: 0.3020 - acc: 0.9523\n",
      "Epoch 6/100\n",
      "608/608 [==============================] - 0s 159us/step - loss: 0.2264 - acc: 0.9523\n",
      "Epoch 7/100\n",
      "608/608 [==============================] - 0s 139us/step - loss: 0.1827 - acc: 0.9523\n",
      "Epoch 8/100\n",
      "608/608 [==============================] - 0s 131us/step - loss: 0.1585 - acc: 0.9523\n",
      "Epoch 9/100\n",
      "608/608 [==============================] - 0s 144us/step - loss: 0.1444 - acc: 0.9523\n",
      "Epoch 10/100\n",
      "608/608 [==============================] - 0s 141us/step - loss: 0.1352 - acc: 0.9523\n",
      "Epoch 11/100\n",
      "608/608 [==============================] - 0s 137us/step - loss: 0.1282 - acc: 0.9523\n",
      "Epoch 12/100\n",
      "608/608 [==============================] - 0s 151us/step - loss: 0.1238 - acc: 0.9523\n",
      "Epoch 13/100\n",
      "608/608 [==============================] - 0s 288us/step - loss: 0.1203 - acc: 0.9523\n",
      "Epoch 14/100\n",
      "608/608 [==============================] - 0s 176us/step - loss: 0.1176 - acc: 0.9523\n",
      "Epoch 15/100\n",
      "608/608 [==============================] - 0s 141us/step - loss: 0.1153 - acc: 0.9523\n",
      "Epoch 16/100\n",
      "608/608 [==============================] - 0s 169us/step - loss: 0.1134 - acc: 0.9523\n",
      "Epoch 17/100\n",
      "608/608 [==============================] - 0s 178us/step - loss: 0.1116 - acc: 0.9523\n",
      "Epoch 18/100\n",
      "608/608 [==============================] - 0s 125us/step - loss: 0.1099 - acc: 0.9523\n",
      "Epoch 19/100\n",
      "608/608 [==============================] - 0s 143us/step - loss: 0.1086 - acc: 0.9523\n",
      "Epoch 20/100\n",
      "608/608 [==============================] - 0s 157us/step - loss: 0.1076 - acc: 0.9523\n",
      "Epoch 21/100\n",
      "608/608 [==============================] - 0s 150us/step - loss: 0.1060 - acc: 0.9523\n",
      "Epoch 22/100\n",
      "608/608 [==============================] - 0s 165us/step - loss: 0.1044 - acc: 0.9523\n",
      "Epoch 23/100\n",
      "608/608 [==============================] - 0s 138us/step - loss: 0.1035 - acc: 0.9523\n",
      "Epoch 24/100\n",
      "608/608 [==============================] - 0s 136us/step - loss: 0.1023 - acc: 0.9523\n",
      "Epoch 25/100\n",
      "608/608 [==============================] - 0s 144us/step - loss: 0.1012 - acc: 0.9523\n",
      "Epoch 26/100\n",
      "608/608 [==============================] - 0s 151us/step - loss: 0.1000 - acc: 0.9523\n",
      "Epoch 27/100\n",
      "608/608 [==============================] - 0s 193us/step - loss: 0.0987 - acc: 0.9523\n",
      "Epoch 28/100\n",
      "608/608 [==============================] - 0s 221us/step - loss: 0.0971 - acc: 0.9523\n",
      "Epoch 29/100\n",
      "608/608 [==============================] - 0s 192us/step - loss: 0.0959 - acc: 0.9523\n",
      "Epoch 30/100\n",
      "608/608 [==============================] - 0s 153us/step - loss: 0.0946 - acc: 0.9523\n",
      "Epoch 31/100\n",
      "608/608 [==============================] - 0s 152us/step - loss: 0.0933 - acc: 0.9523\n",
      "Epoch 32/100\n",
      "608/608 [==============================] - 0s 152us/step - loss: 0.0918 - acc: 0.9523\n",
      "Epoch 33/100\n",
      "608/608 [==============================] - 0s 158us/step - loss: 0.0912 - acc: 0.9523\n",
      "Epoch 34/100\n",
      "608/608 [==============================] - 0s 151us/step - loss: 0.0894 - acc: 0.9523\n",
      "Epoch 35/100\n",
      "608/608 [==============================] - 0s 173us/step - loss: 0.0885 - acc: 0.9523\n",
      "Epoch 36/100\n",
      "608/608 [==============================] - 0s 224us/step - loss: 0.0872 - acc: 0.9523\n",
      "Epoch 37/100\n",
      "608/608 [==============================] - 0s 203us/step - loss: 0.0865 - acc: 0.9523\n",
      "Epoch 38/100\n",
      "608/608 [==============================] - 0s 159us/step - loss: 0.0851 - acc: 0.9523\n",
      "Epoch 39/100\n",
      "608/608 [==============================] - 0s 165us/step - loss: 0.0842 - acc: 0.9523\n",
      "Epoch 40/100\n",
      "608/608 [==============================] - 0s 230us/step - loss: 0.0834 - acc: 0.9523\n",
      "Epoch 41/100\n",
      "608/608 [==============================] - 0s 255us/step - loss: 0.0827 - acc: 0.9523\n",
      "Epoch 42/100\n",
      "608/608 [==============================] - 0s 157us/step - loss: 0.0819 - acc: 0.9523\n",
      "Epoch 43/100\n",
      "608/608 [==============================] - 0s 170us/step - loss: 0.0806 - acc: 0.9523\n",
      "Epoch 44/100\n",
      "608/608 [==============================] - 0s 132us/step - loss: 0.0804 - acc: 0.9523\n",
      "Epoch 45/100\n",
      "608/608 [==============================] - 0s 164us/step - loss: 0.0793 - acc: 0.9523\n",
      "Epoch 46/100\n",
      "608/608 [==============================] - 0s 137us/step - loss: 0.0784 - acc: 0.9523\n",
      "Epoch 47/100\n",
      "608/608 [==============================] - 0s 151us/step - loss: 0.0781 - acc: 0.9523\n",
      "Epoch 48/100\n",
      "608/608 [==============================] - 0s 182us/step - loss: 0.0767 - acc: 0.9523\n",
      "Epoch 49/100\n",
      "608/608 [==============================] - 0s 145us/step - loss: 0.0762 - acc: 0.9523\n",
      "Epoch 50/100\n",
      "608/608 [==============================] - 0s 145us/step - loss: 0.0757 - acc: 0.9523\n",
      "Epoch 51/100\n",
      "608/608 [==============================] - 0s 185us/step - loss: 0.0751 - acc: 0.9523\n",
      "Epoch 52/100\n",
      "608/608 [==============================] - 0s 124us/step - loss: 0.0746 - acc: 0.9523\n",
      "Epoch 53/100\n",
      "608/608 [==============================] - 0s 150us/step - loss: 0.0742 - acc: 0.9523\n",
      "Epoch 54/100\n",
      "608/608 [==============================] - 0s 136us/step - loss: 0.0733 - acc: 0.9539\n",
      "Epoch 55/100\n",
      "608/608 [==============================] - 0s 137us/step - loss: 0.0729 - acc: 0.9753\n",
      "Epoch 56/100\n",
      "608/608 [==============================] - 0s 126us/step - loss: 0.0725 - acc: 0.9737\n",
      "Epoch 57/100\n",
      "608/608 [==============================] - 0s 124us/step - loss: 0.0719 - acc: 0.9737\n",
      "Epoch 58/100\n",
      "608/608 [==============================] - 0s 118us/step - loss: 0.0711 - acc: 0.9737\n",
      "Epoch 59/100\n",
      "608/608 [==============================] - 0s 126us/step - loss: 0.0710 - acc: 0.9737\n",
      "Epoch 60/100\n",
      "608/608 [==============================] - 0s 120us/step - loss: 0.0704 - acc: 0.9770\n",
      "Epoch 61/100\n",
      "608/608 [==============================] - 0s 132us/step - loss: 0.0700 - acc: 0.9737\n",
      "Epoch 62/100\n",
      "608/608 [==============================] - 0s 115us/step - loss: 0.0696 - acc: 0.9737\n",
      "Epoch 63/100\n",
      "608/608 [==============================] - 0s 101us/step - loss: 0.0697 - acc: 0.9737\n",
      "Epoch 64/100\n",
      "608/608 [==============================] - 0s 98us/step - loss: 0.0685 - acc: 0.9720\n",
      "Epoch 65/100\n",
      "608/608 [==============================] - 0s 103us/step - loss: 0.0678 - acc: 0.9753\n",
      "Epoch 66/100\n",
      "608/608 [==============================] - 0s 149us/step - loss: 0.0677 - acc: 0.9720\n",
      "Epoch 67/100\n",
      "608/608 [==============================] - 0s 143us/step - loss: 0.0674 - acc: 0.9720\n",
      "Epoch 68/100\n",
      "608/608 [==============================] - 0s 113us/step - loss: 0.0662 - acc: 0.9737\n",
      "Epoch 69/100\n",
      "608/608 [==============================] - 0s 146us/step - loss: 0.0659 - acc: 0.9753\n",
      "Epoch 70/100\n",
      "608/608 [==============================] - 0s 117us/step - loss: 0.0658 - acc: 0.9753\n",
      "Epoch 71/100\n",
      "608/608 [==============================] - 0s 117us/step - loss: 0.0655 - acc: 0.9737\n",
      "Epoch 72/100\n",
      "608/608 [==============================] - 0s 126us/step - loss: 0.0648 - acc: 0.9737\n",
      "Epoch 73/100\n",
      "608/608 [==============================] - 0s 118us/step - loss: 0.0641 - acc: 0.9737\n",
      "Epoch 74/100\n",
      "608/608 [==============================] - 0s 130us/step - loss: 0.0640 - acc: 0.9737\n",
      "Epoch 75/100\n",
      "608/608 [==============================] - 0s 124us/step - loss: 0.0639 - acc: 0.9737\n",
      "Epoch 76/100\n",
      "608/608 [==============================] - 0s 127us/step - loss: 0.0630 - acc: 0.9737\n",
      "Epoch 77/100\n",
      "608/608 [==============================] - 0s 135us/step - loss: 0.0623 - acc: 0.9720\n",
      "Epoch 78/100\n",
      "608/608 [==============================] - 0s 121us/step - loss: 0.0623 - acc: 0.9737\n",
      "Epoch 79/100\n",
      "608/608 [==============================] - 0s 120us/step - loss: 0.0614 - acc: 0.9737\n",
      "Epoch 80/100\n",
      "608/608 [==============================] - 0s 123us/step - loss: 0.0614 - acc: 0.9770\n",
      "Epoch 81/100\n",
      "608/608 [==============================] - 0s 134us/step - loss: 0.0609 - acc: 0.9720\n",
      "Epoch 82/100\n",
      "608/608 [==============================] - 0s 141us/step - loss: 0.0603 - acc: 0.9753\n",
      "Epoch 83/100\n",
      "608/608 [==============================] - 0s 144us/step - loss: 0.0597 - acc: 0.9753\n",
      "Epoch 84/100\n",
      "608/608 [==============================] - 0s 125us/step - loss: 0.0598 - acc: 0.9770\n",
      "Epoch 85/100\n",
      "608/608 [==============================] - 0s 135us/step - loss: 0.0598 - acc: 0.9753\n",
      "Epoch 86/100\n",
      "608/608 [==============================] - 0s 122us/step - loss: 0.0594 - acc: 0.9737\n",
      "Epoch 87/100\n",
      "608/608 [==============================] - 0s 125us/step - loss: 0.0594 - acc: 0.9737\n",
      "Epoch 88/100\n",
      "608/608 [==============================] - 0s 113us/step - loss: 0.0582 - acc: 0.9753\n",
      "Epoch 89/100\n",
      "608/608 [==============================] - 0s 119us/step - loss: 0.0578 - acc: 0.9770\n",
      "Epoch 90/100\n",
      "608/608 [==============================] - 0s 124us/step - loss: 0.0580 - acc: 0.9753\n",
      "Epoch 91/100\n",
      "608/608 [==============================] - 0s 128us/step - loss: 0.0578 - acc: 0.9720\n",
      "Epoch 92/100\n",
      "608/608 [==============================] - 0s 119us/step - loss: 0.0569 - acc: 0.9737\n",
      "Epoch 93/100\n",
      "608/608 [==============================] - 0s 120us/step - loss: 0.0566 - acc: 0.9786\n",
      "Epoch 94/100\n",
      "608/608 [==============================] - 0s 110us/step - loss: 0.0573 - acc: 0.9753\n",
      "Epoch 95/100\n",
      "608/608 [==============================] - 0s 118us/step - loss: 0.0566 - acc: 0.9737\n",
      "Epoch 96/100\n",
      "608/608 [==============================] - 0s 126us/step - loss: 0.0560 - acc: 0.9770\n",
      "Epoch 97/100\n",
      "608/608 [==============================] - 0s 155us/step - loss: 0.0569 - acc: 0.9737\n",
      "Epoch 98/100\n",
      "608/608 [==============================] - 0s 153us/step - loss: 0.0556 - acc: 0.9770\n",
      "Epoch 99/100\n",
      "608/608 [==============================] - 0s 140us/step - loss: 0.0549 - acc: 0.9770\n",
      "Epoch 100/100\n",
      "608/608 [==============================] - 0s 136us/step - loss: 0.0550 - acc: 0.9786\n"
     ]
    }
   ],
   "source": [
    "classifier = Sequential()\n",
    "\n",
    "# Adding the input layer and the first hidden layer\n",
    "classifier.add(Dense(units = 3, kernel_initializer = 'uniform', activation = 'relu', input_dim = 3))\n",
    "\n",
    "# Adding the second hidden layer\n",
    "classifier.add(Dense(units = 3, kernel_initializer = 'uniform', activation = 'relu'))\n",
    "\n",
    "# Adding the output layer\n",
    "classifier.add(Dense(units = 1, kernel_initializer = 'uniform', activation = 'sigmoid'))\n",
    "\n",
    "# Compiling the ANN\n",
    "classifier.compile(optimizer = 'adam', loss = 'binary_crossentropy', metrics = ['accuracy'])\n",
    "\n",
    "# Fitting the ANN to the Training set\n",
    "classifier.fit(X_train, y_train, batch_size = 10, epochs = 100)\n",
    "\n",
    "# Part 3 - Making the predictions and evaluating the model\n",
    "\n",
    "# Predicting the Test set results\n",
    "y_pred = classifier.predict(X_test)\n",
    "y_pred = (y_pred > 0.5)\n",
    "\n",
    "# Making the Confusion Matrix\n",
    "from sklearn.metrics import confusion_matrix\n",
    "cm = confusion_matrix(y_test, y_pred)"
   ]
  },
  {
   "cell_type": "code",
   "execution_count": null,
   "metadata": {},
   "outputs": [],
   "source": []
  }
 ],
 "metadata": {
  "kernelspec": {
   "display_name": "Python 3",
   "language": "python",
   "name": "python3"
  },
  "language_info": {
   "codemirror_mode": {
    "name": "ipython",
    "version": 3
   },
   "file_extension": ".py",
   "mimetype": "text/x-python",
   "name": "python",
   "nbconvert_exporter": "python",
   "pygments_lexer": "ipython3",
   "version": "3.7.6"
  }
 },
 "nbformat": 4,
 "nbformat_minor": 2
}
